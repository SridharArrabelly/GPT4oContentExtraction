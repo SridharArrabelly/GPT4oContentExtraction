{
 "cells": [
  {
   "cell_type": "code",
   "execution_count": null,
   "metadata": {
    "gather": {
     "logged": 1718112447912
    }
   },
   "outputs": [],
   "source": [
    "# Notebook to convert a document to Markdown format\n",
    "# Important - install requirements.txt as well as LibreOffice (via install-libreoffice.ipynb)"
   ]
  },
  {
   "cell_type": "code",
   "execution_count": 2,
   "metadata": {
    "collapsed": false,
    "gather": {
     "logged": 1718310865333
    },
    "jupyter": {
     "outputs_hidden": false,
     "source_hidden": false
    },
    "nteract": {
     "transient": {
      "deleting": false
     }
    }
   },
   "outputs": [],
   "source": [
    "import os\n",
    "import re  \n",
    "import requests\n",
    "import concurrent.futures  \n",
    "from functools import partial  \n",
    "import pathlib\n",
    "\n",
    "# Image processing via GPT-4o  \n",
    "from IPython.display import Markdown, display  \n",
    "\n",
    "# Utils\n",
    "import doc2md_utils\n",
    "\n",
    "image_path = 'images'\n",
    "markdown_path = 'markdown'"
   ]
  },
  {
   "cell_type": "code",
   "execution_count": null,
   "metadata": {},
   "outputs": [],
   "source": [
    "# Reset the output directories\n",
    "doc2md_utils.reset_local_dirs()\n"
   ]
  },
  {
   "cell_type": "code",
   "execution_count": null,
   "metadata": {
    "collapsed": false,
    "gather": {
     "logged": 1718310877001
    },
    "jupyter": {
     "outputs_hidden": false,
     "source_hidden": false
    },
    "nteract": {
     "transient": {
      "deleting": false
     }
    }
   },
   "outputs": [],
   "source": [
    "# Convert file to PDF\n",
    "file_to_process = 'Transforming-Content-with-GPT4o.pptx'\n",
    "pdf_path = doc2md_utils.convert_to_pdf(file_to_process)"
   ]
  },
  {
   "cell_type": "code",
   "execution_count": null,
   "metadata": {
    "collapsed": false,
    "gather": {
     "logged": 1718310890936
    },
    "jupyter": {
     "outputs_hidden": false,
     "source_hidden": false
    },
    "nteract": {
     "transient": {
      "deleting": false
     }
    }
   },
   "outputs": [],
   "source": [
    "# Extract PDF pages to images\n",
    "doc_id = doc2md_utils.extract_pdf_pages_to_images(pdf_path, image_path)\n",
    "pdf_images_dir = os.path.join(image_path, doc_id)\n",
    "print ('Images saved to:', pdf_images_dir)\n",
    "print ('Doc ID:', doc_id)\n",
    "files = doc2md_utils.get_all_files(pdf_images_dir)  \n",
    "total_files = len(files)\n",
    "print ('Total Image Files to Process:', total_files)\n"
   ]
  },
  {
   "cell_type": "code",
   "execution_count": null,
   "metadata": {
    "collapsed": false,
    "gather": {
     "logged": 1718310924522
    },
    "jupyter": {
     "outputs_hidden": false,
     "source_hidden": false
    },
    "nteract": {
     "transient": {
      "deleting": false
     }
    }
   },
   "outputs": [],
   "source": [
    "# Convert the images to markdown using GPT-4o \n",
    "# Process pages in parallel - adjust worker count as needed\n",
    "max_workers = 10\n",
    "\n",
    "markdown_out_dir = os.path.join(markdown_path, doc_id)\n",
    "doc2md_utils.ensure_directory_exists(markdown_out_dir)\n",
    "\n",
    "# Using ThreadPoolExecutor with a limit of max_workers threads  \n",
    "partial_process_image = partial(doc2md_utils.process_image, markdown_out_dir=markdown_out_dir)  \n",
    "with concurrent.futures.ThreadPoolExecutor(max_workers=max_workers) as executor:  \n",
    "    # Map the partial function to the array of items  \n",
    "    results = list(executor.map(partial_process_image, files))  \n",
    "    \n",
    "print('Total Processed:', len(results))\n"
   ]
  },
  {
   "cell_type": "code",
   "execution_count": null,
   "metadata": {
    "collapsed": false,
    "jupyter": {
     "outputs_hidden": false,
     "source_hidden": false
    },
    "nteract": {
     "transient": {
      "deleting": false
     }
    }
   },
   "outputs": [],
   "source": []
  },
  {
   "cell_type": "code",
   "execution_count": null,
   "metadata": {},
   "outputs": [],
   "source": []
  }
 ],
 "metadata": {
  "kernel_info": {
   "name": "python310-sdkv2"
  },
  "kernelspec": {
   "display_name": "py39_default",
   "language": "python",
   "name": "py39_default"
  },
  "language_info": {
   "codemirror_mode": {
    "name": "ipython",
    "version": 3
   },
   "file_extension": ".py",
   "mimetype": "text/x-python",
   "name": "python",
   "nbconvert_exporter": "python",
   "pygments_lexer": "ipython3",
   "version": "3.11.6"
  },
  "microsoft": {
   "host": {
    "AzureML": {
     "notebookHasBeenCompleted": true
    }
   },
   "ms_spell_check": {
    "ms_spell_check_language": "en"
   }
  },
  "nteract": {
   "version": "nteract-front-end@1.0.0"
  }
 },
 "nbformat": 4,
 "nbformat_minor": 4
}
