{
 "cells": [
  {
   "cell_type": "code",
   "execution_count": null,
   "metadata": {
    "gather": {
     "logged": 1718310939971
    }
   },
   "outputs": [],
   "source": [
    "# Notebook to load markdown content to Azure AI Search\n",
    "# NOTE: There is no chunking of content, but rather a single PDF page equals a chunk"
   ]
  },
  {
   "cell_type": "code",
   "execution_count": 2,
   "metadata": {
    "collapsed": false,
    "gather": {
     "logged": 1718310955125
    },
    "jupyter": {
     "outputs_hidden": false,
     "source_hidden": false
    },
    "nteract": {
     "transient": {
      "deleting": false
     }
    }
   },
   "outputs": [],
   "source": [
    "import os\n",
    "import concurrent.futures  \n",
    "from functools import partial  \n",
    "# Utils\n",
    "import doc2md_utils\n",
    "\n",
    "markdown_path = 'markdown'"
   ]
  },
  {
   "cell_type": "code",
   "execution_count": 3,
   "metadata": {},
   "outputs": [
    {
     "name": "stdout",
     "output_type": "stream",
     "text": [
      "Dimensions in Embedding Model: 1536\n",
      "Index gpt4o-extraction deleted successfully.\n",
      "Index gpt4o-extraction created successfully.\n"
     ]
    }
   ],
   "source": [
    "# Load the Index Scheam and re-create Index\n",
    "doc2md_utils.create_index()"
   ]
  },
  {
   "cell_type": "code",
   "execution_count": 4,
   "metadata": {
    "collapsed": false,
    "gather": {
     "logged": 1718310967471
    },
    "jupyter": {
     "outputs_hidden": false,
     "source_hidden": false
    },
    "nteract": {
     "transient": {
      "deleting": false
     }
    }
   },
   "outputs": [
    {
     "name": "stdout",
     "output_type": "stream",
     "text": [
      "doc_id: a55a8e09-4b40-4b7e-a37b-bc379a9fb48a\n",
      "Total Markdown Files: 9\n"
     ]
    }
   ],
   "source": [
    "# Retrive all the markdown files and doc_id\n",
    "doc_id = doc2md_utils.get_doc_id(markdown_path)\n",
    "markdown_out_dir = os.path.join(markdown_path, doc_id)   \n",
    "\n",
    "files = os.listdir(markdown_out_dir)  \n",
    "# Filter out non-txt files (optional)  \n",
    "txt_files = [f for f in files if f.endswith('.txt')]  \n",
    "\n",
    "total_files = len(files)\n",
    "print ('Total Markdown Files:', total_files)\n"
   ]
  },
  {
   "cell_type": "code",
   "execution_count": 5,
   "metadata": {},
   "outputs": [
    {
     "name": "stdout",
     "output_type": "stream",
     "text": [
      "Directory created: json/a55a8e09-4b40-4b7e-a37b-bc379a9fb48a\n",
      "['1.txt', '2.txt', '3.txt', '4.txt', '5.txt', '6.txt', '7.txt', '8.txt', '9.txt']\n",
      "Total JSON Files: 9\n"
     ]
    }
   ],
   "source": [
    "# Vectorize the JSON Content in parallel\n",
    "max_workers = 15\n",
    "\n",
    "json_out_dir = os.path.join('json', doc_id)\n",
    "doc2md_utils.ensure_directory_exists(json_out_dir)\n",
    "\n",
    "partial_process_json = partial(doc2md_utils.process_json, doc_id=doc_id, markdown_out_dir=markdown_out_dir, json_out_dir=json_out_dir)  \n",
    "with concurrent.futures.ThreadPoolExecutor(max_workers=max_workers) as executor:  \n",
    "    results = list(executor.map(partial_process_json, files))  \n",
    "print(results)  \n",
    "\n",
    "json_files = doc2md_utils.get_all_files(json_out_dir)\n",
    "total_files = len(json_files)\n",
    "print ('Total JSON Files:', total_files)\n"
   ]
  },
  {
   "cell_type": "code",
   "execution_count": 6,
   "metadata": {},
   "outputs": [
    {
     "name": "stdout",
     "output_type": "stream",
     "text": [
      "Documents Indexed successfully.\n"
     ]
    }
   ],
   "source": [
    "# Index content to Azure AI Search\n",
    "doc2md_utils.index_content(json_files)"
   ]
  },
  {
   "cell_type": "code",
   "execution_count": null,
   "metadata": {
    "collapsed": false,
    "gather": {
     "logged": 1718119566690
    },
    "jupyter": {
     "outputs_hidden": false,
     "source_hidden": false
    },
    "nteract": {
     "transient": {
      "deleting": false
     }
    }
   },
   "outputs": [],
   "source": []
  }
 ],
 "metadata": {
  "kernel_info": {
   "name": "python310-sdkv2"
  },
  "kernelspec": {
   "display_name": "py39_default",
   "language": "python",
   "name": "py39_default"
  },
  "language_info": {
   "codemirror_mode": {
    "name": "ipython",
    "version": 3
   },
   "file_extension": ".py",
   "mimetype": "text/x-python",
   "name": "python",
   "nbconvert_exporter": "python",
   "pygments_lexer": "ipython3",
   "version": "3.11.6"
  },
  "microsoft": {
   "host": {
    "AzureML": {
     "notebookHasBeenCompleted": true
    }
   },
   "ms_spell_check": {
    "ms_spell_check_language": "en"
   }
  },
  "nteract": {
   "version": "nteract-front-end@1.0.0"
  }
 },
 "nbformat": 4,
 "nbformat_minor": 4
}
